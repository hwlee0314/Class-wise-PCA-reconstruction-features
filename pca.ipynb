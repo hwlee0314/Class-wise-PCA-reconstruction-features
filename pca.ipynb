{
 "cells": [
  {
   "cell_type": "code",
   "execution_count": 1,
   "id": "a7589271",
   "metadata": {},
   "outputs": [],
   "source": [
    "import random\n",
    "import os\n",
    "import pandas as pd\n",
    "import numpy as np\n",
    "import torch\n",
    "from tqdm.auto import tqdm\n",
    "from sklearn.preprocessing import MinMaxScaler, StandardScaler, RobustScaler, PowerTransformer\n",
    "from sklearn.model_selection import StratifiedKFold\n",
    "from sklearn.metrics import f1_score\n",
    "SEED = 42"
   ]
  },
  {
   "cell_type": "code",
   "execution_count": 4,
   "id": "9a445a06",
   "metadata": {},
   "outputs": [],
   "source": [
    "def seed_everything(seed):\n",
    "    random.seed(seed)\n",
    "    os.environ['PYTHONHASHSEED'] = str(seed)\n",
    "    np.random.seed(seed)\n",
    "    torch.manual_seed(seed)\n",
    "    torch.cuda.manual_seed(seed)\n",
    "    torch.backends.cudnn.deterministic = True\n",
    "    torch.backends.cudnn.benchmark = False"
   ]
  },
  {
   "cell_type": "markdown",
   "id": "b20db68b",
   "metadata": {},
   "source": [
    "# PCA 재구성오차를 이용한 피쳐엔지니어링\n",
    "- 전체 데이터를 축소했다가 복원했을 떄의 잔차를 변수로 추가하는 기법\n",
    "- 도메인지식이 없을 때 유용"
   ]
  },
  {
   "cell_type": "markdown",
   "id": "5252a11a",
   "metadata": {},
   "source": [
    "## 사용법\n",
    "- 클래스갯수에 따라 반복문 범위를 지정(ex. 이진분류면 range(2))\n",
    "- 어느 정도의 분산을 보존할건지 결정(n_components)"
   ]
  },
  {
   "cell_type": "code",
   "execution_count": null,
   "id": "856c23ac",
   "metadata": {},
   "outputs": [],
   "source": [
    "from sklearn.decomposition import PCA\n",
    "def pca_features(train,test):\n",
    "    train, test = train.copy(), test.copy()\n",
    "    cols = [col for col in train.columns if col.startswith(\"X_\")]\n",
    "\n",
    "    scaler = StandardScaler()\n",
    "    train[cols] = scaler.fit_transform(train[cols])\n",
    "    test[cols] = scaler.transform(test[cols])\n",
    "    train_list = []\n",
    "    test_list = []\n",
    "    for i in range(21): # 클래스갯수에 따라 변경\n",
    "        mask = train[\"target\"] == i\n",
    "        decomposition = PCA(n_components=0.9, svd_solver='full', random_state=42)\n",
    "        decomposition.fit(train.loc[mask,cols])\n",
    "\n",
    "        x = decomposition.transform(train[cols])\n",
    "        x = decomposition.inverse_transform(x)\n",
    "        train_list.append(\n",
    "            (train[cols] - x).add_prefix(f\"pca_res_{i}_\")\n",
    "        )\n",
    "        x = decomposition.transform(test[cols])\n",
    "        x = decomposition.inverse_transform(x)\n",
    "        test_list.append(\n",
    "            (test[cols] - x).add_prefix(f\"pca_res_{i}_\")\n",
    "        )\n",
    "\n",
    "    return pd.concat(train_list, axis=1), pd.concat(test_list, axis=1)"
   ]
  },
  {
   "cell_type": "code",
   "execution_count": 9,
   "id": "197fb8b6",
   "metadata": {},
   "outputs": [
    {
     "data": {
      "text/plain": [
       "((21693, 1092), (15004, 1092))"
      ]
     },
     "execution_count": 9,
     "metadata": {},
     "output_type": "execute_result"
    }
   ],
   "source": [
    "train_features, test_features = pca_features(train,test)\n",
    "train_features.shape, test_features.shape"
   ]
  },
  {
   "cell_type": "code",
   "execution_count": 10,
   "id": "658ea7a8",
   "metadata": {},
   "outputs": [
    {
     "data": {
      "text/plain": [
       "((21693, 1146), (15004, 1145))"
      ]
     },
     "execution_count": 10,
     "metadata": {},
     "output_type": "execute_result"
    }
   ],
   "source": [
    "train = pd.concat([train,train_features],axis=1)\n",
    "test = pd.concat([test,test_features],axis=1)\n",
    "train.shape, test.shape"
   ]
  },
  {
   "cell_type": "code",
   "execution_count": 11,
   "id": "d120309a",
   "metadata": {},
   "outputs": [
    {
     "data": {
      "text/plain": [
       "((21693, 1144), (15004, 1144), (21693,))"
      ]
     },
     "execution_count": 11,
     "metadata": {},
     "output_type": "execute_result"
    }
   ],
   "source": [
    "drop_cols = [\"ID\",\"target\"]\n",
    "target = train[\"target\"].to_numpy()\n",
    "train = train.drop(columns=drop_cols)\n",
    "test = test.drop(columns=drop_cols, errors=\"ignore\")\n",
    "train.shape, test.shape, target.shape"
   ]
  }
 ],
 "metadata": {
  "kernelspec": {
   "display_name": "Python 3",
   "language": "python",
   "name": "python3"
  },
  "language_info": {
   "codemirror_mode": {
    "name": "ipython",
    "version": 3
   },
   "file_extension": ".py",
   "mimetype": "text/x-python",
   "name": "python",
   "nbconvert_exporter": "python",
   "pygments_lexer": "ipython3",
   "version": "3.10.6"
  }
 },
 "nbformat": 4,
 "nbformat_minor": 5
}
